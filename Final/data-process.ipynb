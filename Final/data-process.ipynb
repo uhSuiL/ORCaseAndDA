{
 "cells": [
  {
   "cell_type": "code",
   "execution_count": 6,
   "id": "initial_id",
   "metadata": {
    "collapsed": true,
    "ExecuteTime": {
     "end_time": "2024-01-04T10:44:10.735247900Z",
     "start_time": "2024-01-04T10:44:10.701663900Z"
    }
   },
   "outputs": [],
   "source": [
    "import os\n",
    "import pandas as pd\n",
    "from data import source_dir, CITY, source_dir_wsl"
   ]
  },
  {
   "cell_type": "code",
   "execution_count": 7,
   "outputs": [
    {
     "data": {
      "text/plain": "(['Dialysis_Centers.csv',\n  'Hospitals.csv',\n  'Nursing_Homes.csv',\n  'Pharmacies_.csv',\n  'Public_Health_Departments.csv',\n  'SAN FRANCISCO.csv',\n  'Urgent_Care_Facilities.csv',\n  'Veterans_Health_Administration_Medical_Facilities.csv'],\n ['Dialysis_Centers',\n  'Hospitals',\n  'Nursing_Homes',\n  'Pharmacies_',\n  'Public_Health_Departments',\n  'SAN FRANCISCO',\n  'Urgent_Care_Facilities',\n  'Veterans_Health_Administration_Medical_Facilities'])"
     },
     "execution_count": 7,
     "metadata": {},
     "output_type": "execute_result"
    }
   ],
   "source": [
    "files = os.listdir(source_dir_wsl)\n",
    "types = [file_name.rsplit('.')[0] for file_name in files]\n",
    "files, types"
   ],
   "metadata": {
    "collapsed": false,
    "ExecuteTime": {
     "end_time": "2024-01-04T10:44:10.773019Z",
     "start_time": "2024-01-04T10:44:10.706787500Z"
    }
   },
   "id": "48d9e9317069cc0b"
  },
  {
   "cell_type": "code",
   "execution_count": 8,
   "outputs": [
    {
     "name": "stderr",
     "output_type": "stream",
     "text": [
      "/tmp/ipykernel_2150/3611572142.py:1: DtypeWarning: Columns (33,34,42) have mixed types. Specify dtype option on import or set low_memory=False.\n",
      "  tables = {file: pd.read_csv(source_dir_wsl + file) for file in files}\n"
     ]
    }
   ],
   "source": [
    "tables = {file: pd.read_csv(source_dir_wsl + file) for file in files}"
   ],
   "metadata": {
    "collapsed": false,
    "ExecuteTime": {
     "end_time": "2024-01-04T10:44:13.572678700Z",
     "start_time": "2024-01-04T10:44:10.745321200Z"
    }
   },
   "id": "be6d6cc0cfdef83b"
  },
  {
   "cell_type": "code",
   "execution_count": 9,
   "outputs": [
    {
     "data": {
      "text/plain": "               X          Y             TYPE           CITY\n328  -122.390154  37.766473  Dialysis Center  SAN FRANCISCO\n6298 -122.459289  37.781839  Dialysis Center  SAN FRANCISCO\n6302 -122.504847  37.781538  Dialysis Center  SAN FRANCISCO\n6332 -122.452290  37.769560  Dialysis Center  SAN FRANCISCO\n6480 -122.432009  37.783893  Dialysis Center  SAN FRANCISCO\n6492 -122.460641  37.725357  Dialysis Center  SAN FRANCISCO\n6526 -122.403864  37.794793  Dialysis Center  SAN FRANCISCO\n6559 -122.405667  37.756158  Dialysis Center  SAN FRANCISCO\n6622 -122.438279  37.785207  Dialysis Center  SAN FRANCISCO\n6867 -122.420986  37.786944  Dialysis Center  SAN FRANCISCO\n6925 -122.431621  37.790908  Dialysis Center  SAN FRANCISCO\n6928 -122.434595  37.768239  Dialysis Center  SAN FRANCISCO\n7011 -122.431491  37.783935  Dialysis Center  SAN FRANCISCO\n7057 -122.423064  37.790479  Dialysis Center  SAN FRANCISCO\n7097 -122.407856  37.761668  Dialysis Center  SAN FRANCISCO\n7100 -122.448390  37.782646  Dialysis Center  SAN FRANCISCO",
      "text/html": "<div>\n<style scoped>\n    .dataframe tbody tr th:only-of-type {\n        vertical-align: middle;\n    }\n\n    .dataframe tbody tr th {\n        vertical-align: top;\n    }\n\n    .dataframe thead th {\n        text-align: right;\n    }\n</style>\n<table border=\"1\" class=\"dataframe\">\n  <thead>\n    <tr style=\"text-align: right;\">\n      <th></th>\n      <th>X</th>\n      <th>Y</th>\n      <th>TYPE</th>\n      <th>CITY</th>\n    </tr>\n  </thead>\n  <tbody>\n    <tr>\n      <th>328</th>\n      <td>-122.390154</td>\n      <td>37.766473</td>\n      <td>Dialysis Center</td>\n      <td>SAN FRANCISCO</td>\n    </tr>\n    <tr>\n      <th>6298</th>\n      <td>-122.459289</td>\n      <td>37.781839</td>\n      <td>Dialysis Center</td>\n      <td>SAN FRANCISCO</td>\n    </tr>\n    <tr>\n      <th>6302</th>\n      <td>-122.504847</td>\n      <td>37.781538</td>\n      <td>Dialysis Center</td>\n      <td>SAN FRANCISCO</td>\n    </tr>\n    <tr>\n      <th>6332</th>\n      <td>-122.452290</td>\n      <td>37.769560</td>\n      <td>Dialysis Center</td>\n      <td>SAN FRANCISCO</td>\n    </tr>\n    <tr>\n      <th>6480</th>\n      <td>-122.432009</td>\n      <td>37.783893</td>\n      <td>Dialysis Center</td>\n      <td>SAN FRANCISCO</td>\n    </tr>\n    <tr>\n      <th>6492</th>\n      <td>-122.460641</td>\n      <td>37.725357</td>\n      <td>Dialysis Center</td>\n      <td>SAN FRANCISCO</td>\n    </tr>\n    <tr>\n      <th>6526</th>\n      <td>-122.403864</td>\n      <td>37.794793</td>\n      <td>Dialysis Center</td>\n      <td>SAN FRANCISCO</td>\n    </tr>\n    <tr>\n      <th>6559</th>\n      <td>-122.405667</td>\n      <td>37.756158</td>\n      <td>Dialysis Center</td>\n      <td>SAN FRANCISCO</td>\n    </tr>\n    <tr>\n      <th>6622</th>\n      <td>-122.438279</td>\n      <td>37.785207</td>\n      <td>Dialysis Center</td>\n      <td>SAN FRANCISCO</td>\n    </tr>\n    <tr>\n      <th>6867</th>\n      <td>-122.420986</td>\n      <td>37.786944</td>\n      <td>Dialysis Center</td>\n      <td>SAN FRANCISCO</td>\n    </tr>\n    <tr>\n      <th>6925</th>\n      <td>-122.431621</td>\n      <td>37.790908</td>\n      <td>Dialysis Center</td>\n      <td>SAN FRANCISCO</td>\n    </tr>\n    <tr>\n      <th>6928</th>\n      <td>-122.434595</td>\n      <td>37.768239</td>\n      <td>Dialysis Center</td>\n      <td>SAN FRANCISCO</td>\n    </tr>\n    <tr>\n      <th>7011</th>\n      <td>-122.431491</td>\n      <td>37.783935</td>\n      <td>Dialysis Center</td>\n      <td>SAN FRANCISCO</td>\n    </tr>\n    <tr>\n      <th>7057</th>\n      <td>-122.423064</td>\n      <td>37.790479</td>\n      <td>Dialysis Center</td>\n      <td>SAN FRANCISCO</td>\n    </tr>\n    <tr>\n      <th>7097</th>\n      <td>-122.407856</td>\n      <td>37.761668</td>\n      <td>Dialysis Center</td>\n      <td>SAN FRANCISCO</td>\n    </tr>\n    <tr>\n      <th>7100</th>\n      <td>-122.448390</td>\n      <td>37.782646</td>\n      <td>Dialysis Center</td>\n      <td>SAN FRANCISCO</td>\n    </tr>\n  </tbody>\n</table>\n</div>"
     },
     "execution_count": 9,
     "metadata": {},
     "output_type": "execute_result"
    }
   ],
   "source": [
    "_1 = tables['Dialysis_Centers.csv']\n",
    "__1 = _1[_1['City'] == CITY].loc[:, ['CalcLoca_1', 'CalcLoca_2', 'Type_', 'City']]\n",
    "__1.columns = ['X', 'Y', 'TYPE', 'CITY']\n",
    "__1"
   ],
   "metadata": {
    "collapsed": false,
    "ExecuteTime": {
     "end_time": "2024-01-04T10:44:13.620422100Z",
     "start_time": "2024-01-04T10:44:13.572678700Z"
    }
   },
   "id": "c0bde4b6e21f3968"
  },
  {
   "cell_type": "code",
   "execution_count": 10,
   "outputs": [
    {
     "data": {
      "text/plain": "               X          Y                TYPE           CITY\n669  -122.409169  37.795488  GENERAL ACUTE CARE  SAN FRANCISCO\n671  -122.443253  37.782284  GENERAL ACUTE CARE  SAN FRANCISCO\n674  -122.425873  37.774364  GENERAL ACUTE CARE  SAN FRANCISCO\n675  -122.439147  37.784920  GENERAL ACUTE CARE  SAN FRANCISCO\n677  -122.420768  37.747718  GENERAL ACUTE CARE  SAN FRANCISCO\n678  -122.405762  37.756576  GENERAL ACUTE CARE  SAN FRANCISCO\n679  -122.422250  37.785829  GENERAL ACUTE CARE  SAN FRANCISCO\n680  -122.434360  37.768886  GENERAL ACUTE CARE  SAN FRANCISCO\n684  -122.456896  37.749322  GENERAL ACUTE CARE  SAN FRANCISCO\n685  -122.453752  37.774089  GENERAL ACUTE CARE  SAN FRANCISCO\n686  -122.457877  37.763077  GENERAL ACUTE CARE  SAN FRANCISCO\n687  -122.456851  37.763472         PSYCHIATRIC  SAN FRANCISCO\n688  -122.453889  37.774075         PSYCHIATRIC  SAN FRANCISCO\n689  -122.416729  37.789380         PSYCHIATRIC  SAN FRANCISCO\n690  -122.431512  37.789940         PSYCHIATRIC  SAN FRANCISCO\n693  -122.430891  37.727774         PSYCHIATRIC  SAN FRANCISCO\n694  -122.404740  37.755724         PSYCHIATRIC  SAN FRANCISCO\n695  -122.434800  37.768556         PSYCHIATRIC  SAN FRANCISCO\n784  -122.457821  37.763118  GENERAL ACUTE CARE  SAN FRANCISCO\n789  -122.431306  37.790854  GENERAL ACUTE CARE  SAN FRANCISCO\n808  -122.390070  37.765480  GENERAL ACUTE CARE  SAN FRANCISCO\n813  -122.454030  37.774039      LONG TERM CARE  SAN FRANCISCO\n6488 -122.504975  37.782291            MILITARY  SAN FRANCISCO\n7111 -122.456031  37.786509  GENERAL ACUTE CARE  SAN FRANCISCO\n7112 -122.431295  37.790705  GENERAL ACUTE CARE  SAN FRANCISCO\n7365 -122.454692  37.786660  GENERAL ACUTE CARE  SAN FRANCISCO",
      "text/html": "<div>\n<style scoped>\n    .dataframe tbody tr th:only-of-type {\n        vertical-align: middle;\n    }\n\n    .dataframe tbody tr th {\n        vertical-align: top;\n    }\n\n    .dataframe thead th {\n        text-align: right;\n    }\n</style>\n<table border=\"1\" class=\"dataframe\">\n  <thead>\n    <tr style=\"text-align: right;\">\n      <th></th>\n      <th>X</th>\n      <th>Y</th>\n      <th>TYPE</th>\n      <th>CITY</th>\n    </tr>\n  </thead>\n  <tbody>\n    <tr>\n      <th>669</th>\n      <td>-122.409169</td>\n      <td>37.795488</td>\n      <td>GENERAL ACUTE CARE</td>\n      <td>SAN FRANCISCO</td>\n    </tr>\n    <tr>\n      <th>671</th>\n      <td>-122.443253</td>\n      <td>37.782284</td>\n      <td>GENERAL ACUTE CARE</td>\n      <td>SAN FRANCISCO</td>\n    </tr>\n    <tr>\n      <th>674</th>\n      <td>-122.425873</td>\n      <td>37.774364</td>\n      <td>GENERAL ACUTE CARE</td>\n      <td>SAN FRANCISCO</td>\n    </tr>\n    <tr>\n      <th>675</th>\n      <td>-122.439147</td>\n      <td>37.784920</td>\n      <td>GENERAL ACUTE CARE</td>\n      <td>SAN FRANCISCO</td>\n    </tr>\n    <tr>\n      <th>677</th>\n      <td>-122.420768</td>\n      <td>37.747718</td>\n      <td>GENERAL ACUTE CARE</td>\n      <td>SAN FRANCISCO</td>\n    </tr>\n    <tr>\n      <th>678</th>\n      <td>-122.405762</td>\n      <td>37.756576</td>\n      <td>GENERAL ACUTE CARE</td>\n      <td>SAN FRANCISCO</td>\n    </tr>\n    <tr>\n      <th>679</th>\n      <td>-122.422250</td>\n      <td>37.785829</td>\n      <td>GENERAL ACUTE CARE</td>\n      <td>SAN FRANCISCO</td>\n    </tr>\n    <tr>\n      <th>680</th>\n      <td>-122.434360</td>\n      <td>37.768886</td>\n      <td>GENERAL ACUTE CARE</td>\n      <td>SAN FRANCISCO</td>\n    </tr>\n    <tr>\n      <th>684</th>\n      <td>-122.456896</td>\n      <td>37.749322</td>\n      <td>GENERAL ACUTE CARE</td>\n      <td>SAN FRANCISCO</td>\n    </tr>\n    <tr>\n      <th>685</th>\n      <td>-122.453752</td>\n      <td>37.774089</td>\n      <td>GENERAL ACUTE CARE</td>\n      <td>SAN FRANCISCO</td>\n    </tr>\n    <tr>\n      <th>686</th>\n      <td>-122.457877</td>\n      <td>37.763077</td>\n      <td>GENERAL ACUTE CARE</td>\n      <td>SAN FRANCISCO</td>\n    </tr>\n    <tr>\n      <th>687</th>\n      <td>-122.456851</td>\n      <td>37.763472</td>\n      <td>PSYCHIATRIC</td>\n      <td>SAN FRANCISCO</td>\n    </tr>\n    <tr>\n      <th>688</th>\n      <td>-122.453889</td>\n      <td>37.774075</td>\n      <td>PSYCHIATRIC</td>\n      <td>SAN FRANCISCO</td>\n    </tr>\n    <tr>\n      <th>689</th>\n      <td>-122.416729</td>\n      <td>37.789380</td>\n      <td>PSYCHIATRIC</td>\n      <td>SAN FRANCISCO</td>\n    </tr>\n    <tr>\n      <th>690</th>\n      <td>-122.431512</td>\n      <td>37.789940</td>\n      <td>PSYCHIATRIC</td>\n      <td>SAN FRANCISCO</td>\n    </tr>\n    <tr>\n      <th>693</th>\n      <td>-122.430891</td>\n      <td>37.727774</td>\n      <td>PSYCHIATRIC</td>\n      <td>SAN FRANCISCO</td>\n    </tr>\n    <tr>\n      <th>694</th>\n      <td>-122.404740</td>\n      <td>37.755724</td>\n      <td>PSYCHIATRIC</td>\n      <td>SAN FRANCISCO</td>\n    </tr>\n    <tr>\n      <th>695</th>\n      <td>-122.434800</td>\n      <td>37.768556</td>\n      <td>PSYCHIATRIC</td>\n      <td>SAN FRANCISCO</td>\n    </tr>\n    <tr>\n      <th>784</th>\n      <td>-122.457821</td>\n      <td>37.763118</td>\n      <td>GENERAL ACUTE CARE</td>\n      <td>SAN FRANCISCO</td>\n    </tr>\n    <tr>\n      <th>789</th>\n      <td>-122.431306</td>\n      <td>37.790854</td>\n      <td>GENERAL ACUTE CARE</td>\n      <td>SAN FRANCISCO</td>\n    </tr>\n    <tr>\n      <th>808</th>\n      <td>-122.390070</td>\n      <td>37.765480</td>\n      <td>GENERAL ACUTE CARE</td>\n      <td>SAN FRANCISCO</td>\n    </tr>\n    <tr>\n      <th>813</th>\n      <td>-122.454030</td>\n      <td>37.774039</td>\n      <td>LONG TERM CARE</td>\n      <td>SAN FRANCISCO</td>\n    </tr>\n    <tr>\n      <th>6488</th>\n      <td>-122.504975</td>\n      <td>37.782291</td>\n      <td>MILITARY</td>\n      <td>SAN FRANCISCO</td>\n    </tr>\n    <tr>\n      <th>7111</th>\n      <td>-122.456031</td>\n      <td>37.786509</td>\n      <td>GENERAL ACUTE CARE</td>\n      <td>SAN FRANCISCO</td>\n    </tr>\n    <tr>\n      <th>7112</th>\n      <td>-122.431295</td>\n      <td>37.790705</td>\n      <td>GENERAL ACUTE CARE</td>\n      <td>SAN FRANCISCO</td>\n    </tr>\n    <tr>\n      <th>7365</th>\n      <td>-122.454692</td>\n      <td>37.786660</td>\n      <td>GENERAL ACUTE CARE</td>\n      <td>SAN FRANCISCO</td>\n    </tr>\n  </tbody>\n</table>\n</div>"
     },
     "execution_count": 10,
     "metadata": {},
     "output_type": "execute_result"
    }
   ],
   "source": [
    "_2 = tables['Hospitals.csv']\n",
    "__2 = _2[_2['CITY'] == CITY].loc[:, ['X', 'Y', 'TYPE', 'CITY']]\n",
    "__2"
   ],
   "metadata": {
    "collapsed": false,
    "ExecuteTime": {
     "end_time": "2024-01-04T10:44:13.768487400Z",
     "start_time": "2024-01-04T10:44:13.619418900Z"
    }
   },
   "id": "6e2d9fa1d8793e06"
  },
  {
   "cell_type": "code",
   "execution_count": 11,
   "outputs": [
    {
     "data": {
      "text/plain": "                X          Y             TYPE           CITY\n3926  -122.425959  37.786357  ASSISTED LIVING  SAN FRANCISCO\n3934  -122.427275  37.785543     NURSING HOME  SAN FRANCISCO\n3990  -122.430901  37.727919     NURSING HOME  SAN FRANCISCO\n4069  -122.440813  37.775394     NURSING HOME  SAN FRANCISCO\n4073  -122.416179  37.755092     NURSING HOME  SAN FRANCISCO\n4144  -122.476464  37.749645     NURSING HOME  SAN FRANCISCO\n4216  -122.485630  37.762391  ASSISTED LIVING  SAN FRANCISCO\n4233  -122.437123  37.775328     NURSING HOME  SAN FRANCISCO\n4238  -122.457014  37.749263     NURSING HOME  SAN FRANCISCO\n4287  -122.440602  37.766516  ASSISTED LIVING  SAN FRANCISCO\n4553  -122.490592  37.783012  ASSISTED LIVING  SAN FRANCISCO\n4671  -122.426252  37.777090  ASSISTED LIVING  SAN FRANCISCO\n4692  -122.437882  37.771406  ASSISTED LIVING  SAN FRANCISCO\n4706  -122.434668  37.768524     NURSING HOME  SAN FRANCISCO\n4758  -122.428616  37.782593     NURSING HOME  SAN FRANCISCO\n4765  -122.440565  37.786920     NURSING HOME  SAN FRANCISCO\n4774  -122.448751  37.782572  ASSISTED LIVING  SAN FRANCISCO\n4782  -122.426553  37.776721  ASSISTED LIVING  SAN FRANCISCO\n4798  -122.428189  37.787498  ASSISTED LIVING  SAN FRANCISCO\n4817  -122.499338  37.777193  ASSISTED LIVING  SAN FRANCISCO\n4904  -122.439739  37.788403     NURSING HOME  SAN FRANCISCO\n5015  -122.449024  37.709726  ASSISTED LIVING  SAN FRANCISCO\n5017  -122.407086  37.749438  ASSISTED LIVING  SAN FRANCISCO\n5049  -122.464068  37.758975     NURSING HOME  SAN FRANCISCO\n5095  -122.443867  37.783030  ASSISTED LIVING  SAN FRANCISCO\n5142  -122.431256  37.802991     NURSING HOME  SAN FRANCISCO\n5163  -122.409029  37.751601  ASSISTED LIVING  SAN FRANCISCO\n5232  -122.426025  37.787523  ASSISTED LIVING  SAN FRANCISCO\n5243  -122.462197  37.763064  ASSISTED LIVING  SAN FRANCISCO\n5325  -122.467500  37.738421  ASSISTED LIVING  SAN FRANCISCO\n5373  -122.406211  37.758496  ASSISTED LIVING  SAN FRANCISCO\n5380  -122.477442  37.757193  ASSISTED LIVING  SAN FRANCISCO\n5447  -122.437640  37.784883  ASSISTED LIVING  SAN FRANCISCO\n5455  -122.426385  37.786732  ASSISTED LIVING  SAN FRANCISCO\n5519  -122.461173  37.712903  ASSISTED LIVING  SAN FRANCISCO\n5603  -122.431080  37.788062     NURSING HOME  SAN FRANCISCO\n5608  -122.498477  37.773674  ASSISTED LIVING  SAN FRANCISCO\n5621  -122.423125  37.789139     NURSING HOME  SAN FRANCISCO\n5638  -122.405752  37.730651  ASSISTED LIVING  SAN FRANCISCO\n5649  -122.461098  37.712903  ASSISTED LIVING  SAN FRANCISCO\n5822  -122.472073  37.712255  ASSISTED LIVING  SAN FRANCISCO\n5860  -122.462528  37.787677  ASSISTED LIVING  SAN FRANCISCO\n5866  -122.435832  37.778378  ASSISTED LIVING  SAN FRANCISCO\n5872  -122.427330  37.777291  ASSISTED LIVING  SAN FRANCISCO\n5893  -122.425949  37.777310  ASSISTED LIVING  SAN FRANCISCO\n5931  -122.423699  37.749060  ASSISTED LIVING  SAN FRANCISCO\n5989  -122.421811  37.785343  ASSISTED LIVING  SAN FRANCISCO\n6005  -122.499540  37.777090  ASSISTED LIVING  SAN FRANCISCO\n6063  -122.491093  37.744695  ASSISTED LIVING  SAN FRANCISCO\n6066  -122.405764  37.755576     NURSING HOME  SAN FRANCISCO\n6185  -122.449528  37.709589     NURSING HOME  SAN FRANCISCO\n6242  -122.422889  37.789175     NURSING HOME  SAN FRANCISCO\n6311  -122.418248  37.789683     NURSING HOME  SAN FRANCISCO\n40640 -122.423479  37.726294  ASSISTED LIVING  SAN FRANCISCO\n40805 -122.463741  37.761597  ASSISTED LIVING  SAN FRANCISCO\n44358 -122.423433  37.726052  ASSISTED LIVING  SAN FRANCISCO\n44359 -122.423300  37.726056  ASSISTED LIVING  SAN FRANCISCO",
      "text/html": "<div>\n<style scoped>\n    .dataframe tbody tr th:only-of-type {\n        vertical-align: middle;\n    }\n\n    .dataframe tbody tr th {\n        vertical-align: top;\n    }\n\n    .dataframe thead th {\n        text-align: right;\n    }\n</style>\n<table border=\"1\" class=\"dataframe\">\n  <thead>\n    <tr style=\"text-align: right;\">\n      <th></th>\n      <th>X</th>\n      <th>Y</th>\n      <th>TYPE</th>\n      <th>CITY</th>\n    </tr>\n  </thead>\n  <tbody>\n    <tr>\n      <th>3926</th>\n      <td>-122.425959</td>\n      <td>37.786357</td>\n      <td>ASSISTED LIVING</td>\n      <td>SAN FRANCISCO</td>\n    </tr>\n    <tr>\n      <th>3934</th>\n      <td>-122.427275</td>\n      <td>37.785543</td>\n      <td>NURSING HOME</td>\n      <td>SAN FRANCISCO</td>\n    </tr>\n    <tr>\n      <th>3990</th>\n      <td>-122.430901</td>\n      <td>37.727919</td>\n      <td>NURSING HOME</td>\n      <td>SAN FRANCISCO</td>\n    </tr>\n    <tr>\n      <th>4069</th>\n      <td>-122.440813</td>\n      <td>37.775394</td>\n      <td>NURSING HOME</td>\n      <td>SAN FRANCISCO</td>\n    </tr>\n    <tr>\n      <th>4073</th>\n      <td>-122.416179</td>\n      <td>37.755092</td>\n      <td>NURSING HOME</td>\n      <td>SAN FRANCISCO</td>\n    </tr>\n    <tr>\n      <th>4144</th>\n      <td>-122.476464</td>\n      <td>37.749645</td>\n      <td>NURSING HOME</td>\n      <td>SAN FRANCISCO</td>\n    </tr>\n    <tr>\n      <th>4216</th>\n      <td>-122.485630</td>\n      <td>37.762391</td>\n      <td>ASSISTED LIVING</td>\n      <td>SAN FRANCISCO</td>\n    </tr>\n    <tr>\n      <th>4233</th>\n      <td>-122.437123</td>\n      <td>37.775328</td>\n      <td>NURSING HOME</td>\n      <td>SAN FRANCISCO</td>\n    </tr>\n    <tr>\n      <th>4238</th>\n      <td>-122.457014</td>\n      <td>37.749263</td>\n      <td>NURSING HOME</td>\n      <td>SAN FRANCISCO</td>\n    </tr>\n    <tr>\n      <th>4287</th>\n      <td>-122.440602</td>\n      <td>37.766516</td>\n      <td>ASSISTED LIVING</td>\n      <td>SAN FRANCISCO</td>\n    </tr>\n    <tr>\n      <th>4553</th>\n      <td>-122.490592</td>\n      <td>37.783012</td>\n      <td>ASSISTED LIVING</td>\n      <td>SAN FRANCISCO</td>\n    </tr>\n    <tr>\n      <th>4671</th>\n      <td>-122.426252</td>\n      <td>37.777090</td>\n      <td>ASSISTED LIVING</td>\n      <td>SAN FRANCISCO</td>\n    </tr>\n    <tr>\n      <th>4692</th>\n      <td>-122.437882</td>\n      <td>37.771406</td>\n      <td>ASSISTED LIVING</td>\n      <td>SAN FRANCISCO</td>\n    </tr>\n    <tr>\n      <th>4706</th>\n      <td>-122.434668</td>\n      <td>37.768524</td>\n      <td>NURSING HOME</td>\n      <td>SAN FRANCISCO</td>\n    </tr>\n    <tr>\n      <th>4758</th>\n      <td>-122.428616</td>\n      <td>37.782593</td>\n      <td>NURSING HOME</td>\n      <td>SAN FRANCISCO</td>\n    </tr>\n    <tr>\n      <th>4765</th>\n      <td>-122.440565</td>\n      <td>37.786920</td>\n      <td>NURSING HOME</td>\n      <td>SAN FRANCISCO</td>\n    </tr>\n    <tr>\n      <th>4774</th>\n      <td>-122.448751</td>\n      <td>37.782572</td>\n      <td>ASSISTED LIVING</td>\n      <td>SAN FRANCISCO</td>\n    </tr>\n    <tr>\n      <th>4782</th>\n      <td>-122.426553</td>\n      <td>37.776721</td>\n      <td>ASSISTED LIVING</td>\n      <td>SAN FRANCISCO</td>\n    </tr>\n    <tr>\n      <th>4798</th>\n      <td>-122.428189</td>\n      <td>37.787498</td>\n      <td>ASSISTED LIVING</td>\n      <td>SAN FRANCISCO</td>\n    </tr>\n    <tr>\n      <th>4817</th>\n      <td>-122.499338</td>\n      <td>37.777193</td>\n      <td>ASSISTED LIVING</td>\n      <td>SAN FRANCISCO</td>\n    </tr>\n    <tr>\n      <th>4904</th>\n      <td>-122.439739</td>\n      <td>37.788403</td>\n      <td>NURSING HOME</td>\n      <td>SAN FRANCISCO</td>\n    </tr>\n    <tr>\n      <th>5015</th>\n      <td>-122.449024</td>\n      <td>37.709726</td>\n      <td>ASSISTED LIVING</td>\n      <td>SAN FRANCISCO</td>\n    </tr>\n    <tr>\n      <th>5017</th>\n      <td>-122.407086</td>\n      <td>37.749438</td>\n      <td>ASSISTED LIVING</td>\n      <td>SAN FRANCISCO</td>\n    </tr>\n    <tr>\n      <th>5049</th>\n      <td>-122.464068</td>\n      <td>37.758975</td>\n      <td>NURSING HOME</td>\n      <td>SAN FRANCISCO</td>\n    </tr>\n    <tr>\n      <th>5095</th>\n      <td>-122.443867</td>\n      <td>37.783030</td>\n      <td>ASSISTED LIVING</td>\n      <td>SAN FRANCISCO</td>\n    </tr>\n    <tr>\n      <th>5142</th>\n      <td>-122.431256</td>\n      <td>37.802991</td>\n      <td>NURSING HOME</td>\n      <td>SAN FRANCISCO</td>\n    </tr>\n    <tr>\n      <th>5163</th>\n      <td>-122.409029</td>\n      <td>37.751601</td>\n      <td>ASSISTED LIVING</td>\n      <td>SAN FRANCISCO</td>\n    </tr>\n    <tr>\n      <th>5232</th>\n      <td>-122.426025</td>\n      <td>37.787523</td>\n      <td>ASSISTED LIVING</td>\n      <td>SAN FRANCISCO</td>\n    </tr>\n    <tr>\n      <th>5243</th>\n      <td>-122.462197</td>\n      <td>37.763064</td>\n      <td>ASSISTED LIVING</td>\n      <td>SAN FRANCISCO</td>\n    </tr>\n    <tr>\n      <th>5325</th>\n      <td>-122.467500</td>\n      <td>37.738421</td>\n      <td>ASSISTED LIVING</td>\n      <td>SAN FRANCISCO</td>\n    </tr>\n    <tr>\n      <th>5373</th>\n      <td>-122.406211</td>\n      <td>37.758496</td>\n      <td>ASSISTED LIVING</td>\n      <td>SAN FRANCISCO</td>\n    </tr>\n    <tr>\n      <th>5380</th>\n      <td>-122.477442</td>\n      <td>37.757193</td>\n      <td>ASSISTED LIVING</td>\n      <td>SAN FRANCISCO</td>\n    </tr>\n    <tr>\n      <th>5447</th>\n      <td>-122.437640</td>\n      <td>37.784883</td>\n      <td>ASSISTED LIVING</td>\n      <td>SAN FRANCISCO</td>\n    </tr>\n    <tr>\n      <th>5455</th>\n      <td>-122.426385</td>\n      <td>37.786732</td>\n      <td>ASSISTED LIVING</td>\n      <td>SAN FRANCISCO</td>\n    </tr>\n    <tr>\n      <th>5519</th>\n      <td>-122.461173</td>\n      <td>37.712903</td>\n      <td>ASSISTED LIVING</td>\n      <td>SAN FRANCISCO</td>\n    </tr>\n    <tr>\n      <th>5603</th>\n      <td>-122.431080</td>\n      <td>37.788062</td>\n      <td>NURSING HOME</td>\n      <td>SAN FRANCISCO</td>\n    </tr>\n    <tr>\n      <th>5608</th>\n      <td>-122.498477</td>\n      <td>37.773674</td>\n      <td>ASSISTED LIVING</td>\n      <td>SAN FRANCISCO</td>\n    </tr>\n    <tr>\n      <th>5621</th>\n      <td>-122.423125</td>\n      <td>37.789139</td>\n      <td>NURSING HOME</td>\n      <td>SAN FRANCISCO</td>\n    </tr>\n    <tr>\n      <th>5638</th>\n      <td>-122.405752</td>\n      <td>37.730651</td>\n      <td>ASSISTED LIVING</td>\n      <td>SAN FRANCISCO</td>\n    </tr>\n    <tr>\n      <th>5649</th>\n      <td>-122.461098</td>\n      <td>37.712903</td>\n      <td>ASSISTED LIVING</td>\n      <td>SAN FRANCISCO</td>\n    </tr>\n    <tr>\n      <th>5822</th>\n      <td>-122.472073</td>\n      <td>37.712255</td>\n      <td>ASSISTED LIVING</td>\n      <td>SAN FRANCISCO</td>\n    </tr>\n    <tr>\n      <th>5860</th>\n      <td>-122.462528</td>\n      <td>37.787677</td>\n      <td>ASSISTED LIVING</td>\n      <td>SAN FRANCISCO</td>\n    </tr>\n    <tr>\n      <th>5866</th>\n      <td>-122.435832</td>\n      <td>37.778378</td>\n      <td>ASSISTED LIVING</td>\n      <td>SAN FRANCISCO</td>\n    </tr>\n    <tr>\n      <th>5872</th>\n      <td>-122.427330</td>\n      <td>37.777291</td>\n      <td>ASSISTED LIVING</td>\n      <td>SAN FRANCISCO</td>\n    </tr>\n    <tr>\n      <th>5893</th>\n      <td>-122.425949</td>\n      <td>37.777310</td>\n      <td>ASSISTED LIVING</td>\n      <td>SAN FRANCISCO</td>\n    </tr>\n    <tr>\n      <th>5931</th>\n      <td>-122.423699</td>\n      <td>37.749060</td>\n      <td>ASSISTED LIVING</td>\n      <td>SAN FRANCISCO</td>\n    </tr>\n    <tr>\n      <th>5989</th>\n      <td>-122.421811</td>\n      <td>37.785343</td>\n      <td>ASSISTED LIVING</td>\n      <td>SAN FRANCISCO</td>\n    </tr>\n    <tr>\n      <th>6005</th>\n      <td>-122.499540</td>\n      <td>37.777090</td>\n      <td>ASSISTED LIVING</td>\n      <td>SAN FRANCISCO</td>\n    </tr>\n    <tr>\n      <th>6063</th>\n      <td>-122.491093</td>\n      <td>37.744695</td>\n      <td>ASSISTED LIVING</td>\n      <td>SAN FRANCISCO</td>\n    </tr>\n    <tr>\n      <th>6066</th>\n      <td>-122.405764</td>\n      <td>37.755576</td>\n      <td>NURSING HOME</td>\n      <td>SAN FRANCISCO</td>\n    </tr>\n    <tr>\n      <th>6185</th>\n      <td>-122.449528</td>\n      <td>37.709589</td>\n      <td>NURSING HOME</td>\n      <td>SAN FRANCISCO</td>\n    </tr>\n    <tr>\n      <th>6242</th>\n      <td>-122.422889</td>\n      <td>37.789175</td>\n      <td>NURSING HOME</td>\n      <td>SAN FRANCISCO</td>\n    </tr>\n    <tr>\n      <th>6311</th>\n      <td>-122.418248</td>\n      <td>37.789683</td>\n      <td>NURSING HOME</td>\n      <td>SAN FRANCISCO</td>\n    </tr>\n    <tr>\n      <th>40640</th>\n      <td>-122.423479</td>\n      <td>37.726294</td>\n      <td>ASSISTED LIVING</td>\n      <td>SAN FRANCISCO</td>\n    </tr>\n    <tr>\n      <th>40805</th>\n      <td>-122.463741</td>\n      <td>37.761597</td>\n      <td>ASSISTED LIVING</td>\n      <td>SAN FRANCISCO</td>\n    </tr>\n    <tr>\n      <th>44358</th>\n      <td>-122.423433</td>\n      <td>37.726052</td>\n      <td>ASSISTED LIVING</td>\n      <td>SAN FRANCISCO</td>\n    </tr>\n    <tr>\n      <th>44359</th>\n      <td>-122.423300</td>\n      <td>37.726056</td>\n      <td>ASSISTED LIVING</td>\n      <td>SAN FRANCISCO</td>\n    </tr>\n  </tbody>\n</table>\n</div>"
     },
     "execution_count": 11,
     "metadata": {},
     "output_type": "execute_result"
    }
   ],
   "source": [
    "_3 = tables['Nursing_Homes.csv']\n",
    "__3 = _3[_3['CITY'] == CITY].loc[:, ['X', 'Y', 'TYPE', 'CITY']]\n",
    "__3"
   ],
   "metadata": {
    "collapsed": false,
    "ExecuteTime": {
     "end_time": "2024-01-04T10:44:13.786768200Z",
     "start_time": "2024-01-04T10:44:13.713887100Z"
    }
   },
   "id": "d928cf200acb65c4"
  },
  {
   "cell_type": "code",
   "execution_count": 12,
   "outputs": [
    {
     "data": {
      "text/plain": "               X          Y        TYPE           CITY\n426  -122.405655  37.712156  Pharmacies  SAN FRANCISCO\n453  -122.393216  37.728900  Pharmacies  SAN FRANCISCO\n467  -122.400583  37.791345  Pharmacies  SAN FRANCISCO\n468  -122.503551  37.779440  Pharmacies  SAN FRANCISCO\n470  -122.418899  37.789139  Pharmacies  SAN FRANCISCO\n...          ...        ...         ...            ...\n2285 -122.418382  37.748396  Pharmacies  SAN FRANCISCO\n2289 -122.414018  37.784994  Pharmacies  SAN FRANCISCO\n2292 -122.404437  37.755496  Pharmacies  SAN FRANCISCO\n2293 -122.443235  37.782300  Pharmacies  SAN FRANCISCO\n2295 -122.479456  37.754302  Pharmacies  SAN FRANCISCO\n\n[128 rows x 4 columns]",
      "text/html": "<div>\n<style scoped>\n    .dataframe tbody tr th:only-of-type {\n        vertical-align: middle;\n    }\n\n    .dataframe tbody tr th {\n        vertical-align: top;\n    }\n\n    .dataframe thead th {\n        text-align: right;\n    }\n</style>\n<table border=\"1\" class=\"dataframe\">\n  <thead>\n    <tr style=\"text-align: right;\">\n      <th></th>\n      <th>X</th>\n      <th>Y</th>\n      <th>TYPE</th>\n      <th>CITY</th>\n    </tr>\n  </thead>\n  <tbody>\n    <tr>\n      <th>426</th>\n      <td>-122.405655</td>\n      <td>37.712156</td>\n      <td>Pharmacies</td>\n      <td>SAN FRANCISCO</td>\n    </tr>\n    <tr>\n      <th>453</th>\n      <td>-122.393216</td>\n      <td>37.728900</td>\n      <td>Pharmacies</td>\n      <td>SAN FRANCISCO</td>\n    </tr>\n    <tr>\n      <th>467</th>\n      <td>-122.400583</td>\n      <td>37.791345</td>\n      <td>Pharmacies</td>\n      <td>SAN FRANCISCO</td>\n    </tr>\n    <tr>\n      <th>468</th>\n      <td>-122.503551</td>\n      <td>37.779440</td>\n      <td>Pharmacies</td>\n      <td>SAN FRANCISCO</td>\n    </tr>\n    <tr>\n      <th>470</th>\n      <td>-122.418899</td>\n      <td>37.789139</td>\n      <td>Pharmacies</td>\n      <td>SAN FRANCISCO</td>\n    </tr>\n    <tr>\n      <th>...</th>\n      <td>...</td>\n      <td>...</td>\n      <td>...</td>\n      <td>...</td>\n    </tr>\n    <tr>\n      <th>2285</th>\n      <td>-122.418382</td>\n      <td>37.748396</td>\n      <td>Pharmacies</td>\n      <td>SAN FRANCISCO</td>\n    </tr>\n    <tr>\n      <th>2289</th>\n      <td>-122.414018</td>\n      <td>37.784994</td>\n      <td>Pharmacies</td>\n      <td>SAN FRANCISCO</td>\n    </tr>\n    <tr>\n      <th>2292</th>\n      <td>-122.404437</td>\n      <td>37.755496</td>\n      <td>Pharmacies</td>\n      <td>SAN FRANCISCO</td>\n    </tr>\n    <tr>\n      <th>2293</th>\n      <td>-122.443235</td>\n      <td>37.782300</td>\n      <td>Pharmacies</td>\n      <td>SAN FRANCISCO</td>\n    </tr>\n    <tr>\n      <th>2295</th>\n      <td>-122.479456</td>\n      <td>37.754302</td>\n      <td>Pharmacies</td>\n      <td>SAN FRANCISCO</td>\n    </tr>\n  </tbody>\n</table>\n<p>128 rows × 4 columns</p>\n</div>"
     },
     "execution_count": 12,
     "metadata": {},
     "output_type": "execute_result"
    }
   ],
   "source": [
    "_4 = tables['Pharmacies_.csv']\n",
    "_4['TYPE'] = 'Pharmacies'\n",
    "__4 = _4[_4['CITY'] == CITY].loc[:, ['X', 'Y', 'TYPE', 'CITY']]\n",
    "__4"
   ],
   "metadata": {
    "collapsed": false,
    "ExecuteTime": {
     "end_time": "2024-01-04T10:44:13.828158300Z",
     "start_time": "2024-01-04T10:44:13.719916Z"
    }
   },
   "id": "ab369c2a69c339a9"
  },
  {
   "cell_type": "code",
   "execution_count": 13,
   "outputs": [
    {
     "data": {
      "text/plain": "              X          Y                       TYPE           CITY\n365 -122.418656  37.778079  Public_Health_Departments  SAN FRANCISCO",
      "text/html": "<div>\n<style scoped>\n    .dataframe tbody tr th:only-of-type {\n        vertical-align: middle;\n    }\n\n    .dataframe tbody tr th {\n        vertical-align: top;\n    }\n\n    .dataframe thead th {\n        text-align: right;\n    }\n</style>\n<table border=\"1\" class=\"dataframe\">\n  <thead>\n    <tr style=\"text-align: right;\">\n      <th></th>\n      <th>X</th>\n      <th>Y</th>\n      <th>TYPE</th>\n      <th>CITY</th>\n    </tr>\n  </thead>\n  <tbody>\n    <tr>\n      <th>365</th>\n      <td>-122.418656</td>\n      <td>37.778079</td>\n      <td>Public_Health_Departments</td>\n      <td>SAN FRANCISCO</td>\n    </tr>\n  </tbody>\n</table>\n</div>"
     },
     "execution_count": 13,
     "metadata": {},
     "output_type": "execute_result"
    }
   ],
   "source": [
    "_5 = tables['Public_Health_Departments.csv']\n",
    "_5['TYPE'] = 'Public_Health_Departments'\n",
    "__5 = _5[_5['CITY'] == CITY].loc[:, ['X', 'Y', 'TYPE', 'CITY']]\n",
    "__5"
   ],
   "metadata": {
    "collapsed": false,
    "ExecuteTime": {
     "end_time": "2024-01-04T10:44:13.952237500Z",
     "start_time": "2024-01-04T10:44:13.777087Z"
    }
   },
   "id": "e4ef4fc3ce9f561a"
  },
  {
   "cell_type": "code",
   "execution_count": 14,
   "outputs": [
    {
     "data": {
      "text/plain": "              X          Y                    TYPE           CITY\n60  -122.389208  37.760655  Urgent_Care_Facilities  SAN FRANCISCO\n305 -122.398187  37.766074  Urgent_Care_Facilities  SAN FRANCISCO\n520 -122.409875  37.788299  Urgent_Care_Facilities  SAN FRANCISCO\n656 -122.402474  37.790509  Urgent_Care_Facilities  SAN FRANCISCO\n733 -122.424640  37.768090  Urgent_Care_Facilities  SAN FRANCISCO",
      "text/html": "<div>\n<style scoped>\n    .dataframe tbody tr th:only-of-type {\n        vertical-align: middle;\n    }\n\n    .dataframe tbody tr th {\n        vertical-align: top;\n    }\n\n    .dataframe thead th {\n        text-align: right;\n    }\n</style>\n<table border=\"1\" class=\"dataframe\">\n  <thead>\n    <tr style=\"text-align: right;\">\n      <th></th>\n      <th>X</th>\n      <th>Y</th>\n      <th>TYPE</th>\n      <th>CITY</th>\n    </tr>\n  </thead>\n  <tbody>\n    <tr>\n      <th>60</th>\n      <td>-122.389208</td>\n      <td>37.760655</td>\n      <td>Urgent_Care_Facilities</td>\n      <td>SAN FRANCISCO</td>\n    </tr>\n    <tr>\n      <th>305</th>\n      <td>-122.398187</td>\n      <td>37.766074</td>\n      <td>Urgent_Care_Facilities</td>\n      <td>SAN FRANCISCO</td>\n    </tr>\n    <tr>\n      <th>520</th>\n      <td>-122.409875</td>\n      <td>37.788299</td>\n      <td>Urgent_Care_Facilities</td>\n      <td>SAN FRANCISCO</td>\n    </tr>\n    <tr>\n      <th>656</th>\n      <td>-122.402474</td>\n      <td>37.790509</td>\n      <td>Urgent_Care_Facilities</td>\n      <td>SAN FRANCISCO</td>\n    </tr>\n    <tr>\n      <th>733</th>\n      <td>-122.424640</td>\n      <td>37.768090</td>\n      <td>Urgent_Care_Facilities</td>\n      <td>SAN FRANCISCO</td>\n    </tr>\n  </tbody>\n</table>\n</div>"
     },
     "execution_count": 14,
     "metadata": {},
     "output_type": "execute_result"
    }
   ],
   "source": [
    "_6 = tables['Urgent_Care_Facilities.csv']\n",
    "_6['TYPE'] = 'Urgent_Care_Facilities'\n",
    "__6 = _6[_6['CITY'] == CITY].loc[:, ['X', 'Y', 'TYPE', 'CITY']]\n",
    "__6"
   ],
   "metadata": {
    "collapsed": false,
    "ExecuteTime": {
     "end_time": "2024-01-04T10:44:13.984635600Z",
     "start_time": "2024-01-04T10:44:13.815020600Z"
    }
   },
   "id": "43bd670204c8a0d0"
  },
  {
   "cell_type": "code",
   "execution_count": 15,
   "outputs": [
    {
     "data": {
      "text/plain": "               X          Y  \\\n85   -122.419090  37.781426   \n385  -122.504980  37.782290   \n1012 -122.396852  37.782545   \n\n                                                   TYPE           CITY  \n85    Veterans_Health_Administration_Medical_Facilities  SAN FRANCISCO  \n385   Veterans_Health_Administration_Medical_Facilities  SAN FRANCISCO  \n1012  Veterans_Health_Administration_Medical_Facilities  SAN FRANCISCO  ",
      "text/html": "<div>\n<style scoped>\n    .dataframe tbody tr th:only-of-type {\n        vertical-align: middle;\n    }\n\n    .dataframe tbody tr th {\n        vertical-align: top;\n    }\n\n    .dataframe thead th {\n        text-align: right;\n    }\n</style>\n<table border=\"1\" class=\"dataframe\">\n  <thead>\n    <tr style=\"text-align: right;\">\n      <th></th>\n      <th>X</th>\n      <th>Y</th>\n      <th>TYPE</th>\n      <th>CITY</th>\n    </tr>\n  </thead>\n  <tbody>\n    <tr>\n      <th>85</th>\n      <td>-122.419090</td>\n      <td>37.781426</td>\n      <td>Veterans_Health_Administration_Medical_Facilities</td>\n      <td>SAN FRANCISCO</td>\n    </tr>\n    <tr>\n      <th>385</th>\n      <td>-122.504980</td>\n      <td>37.782290</td>\n      <td>Veterans_Health_Administration_Medical_Facilities</td>\n      <td>SAN FRANCISCO</td>\n    </tr>\n    <tr>\n      <th>1012</th>\n      <td>-122.396852</td>\n      <td>37.782545</td>\n      <td>Veterans_Health_Administration_Medical_Facilities</td>\n      <td>SAN FRANCISCO</td>\n    </tr>\n  </tbody>\n</table>\n</div>"
     },
     "execution_count": 15,
     "metadata": {},
     "output_type": "execute_result"
    }
   ],
   "source": [
    "_7 = tables['Veterans_Health_Administration_Medical_Facilities.csv']\n",
    "_7['TYPE'] = 'Veterans_Health_Administration_Medical_Facilities'\n",
    "__7 = _7[_7['CITY'] == CITY].loc[:, ['LONGITUDE', 'LATITUDE', 'TYPE', 'CITY']]\n",
    "__7.columns = ['X', 'Y', 'TYPE', 'CITY']\n",
    "__7"
   ],
   "metadata": {
    "collapsed": false,
    "ExecuteTime": {
     "end_time": "2024-01-04T10:44:14.008109600Z",
     "start_time": "2024-01-04T10:44:13.843402700Z"
    }
   },
   "id": "7ec590d87c16c854"
  },
  {
   "cell_type": "code",
   "execution_count": 16,
   "outputs": [
    {
     "data": {
      "text/plain": "               X          Y  \\\n328  -122.390154  37.766473   \n6298 -122.459289  37.781839   \n6302 -122.504847  37.781538   \n6332 -122.452290  37.769560   \n6480 -122.432009  37.783893   \n...          ...        ...   \n656  -122.402474  37.790509   \n733  -122.424640  37.768090   \n85   -122.419090  37.781426   \n385  -122.504980  37.782290   \n1012 -122.396852  37.782545   \n\n                                                   TYPE           CITY  \n328                                     Dialysis Center  SAN FRANCISCO  \n6298                                    Dialysis Center  SAN FRANCISCO  \n6302                                    Dialysis Center  SAN FRANCISCO  \n6332                                    Dialysis Center  SAN FRANCISCO  \n6480                                    Dialysis Center  SAN FRANCISCO  \n...                                                 ...            ...  \n656                              Urgent_Care_Facilities  SAN FRANCISCO  \n733                              Urgent_Care_Facilities  SAN FRANCISCO  \n85    Veterans_Health_Administration_Medical_Facilities  SAN FRANCISCO  \n385   Veterans_Health_Administration_Medical_Facilities  SAN FRANCISCO  \n1012  Veterans_Health_Administration_Medical_Facilities  SAN FRANCISCO  \n\n[236 rows x 4 columns]",
      "text/html": "<div>\n<style scoped>\n    .dataframe tbody tr th:only-of-type {\n        vertical-align: middle;\n    }\n\n    .dataframe tbody tr th {\n        vertical-align: top;\n    }\n\n    .dataframe thead th {\n        text-align: right;\n    }\n</style>\n<table border=\"1\" class=\"dataframe\">\n  <thead>\n    <tr style=\"text-align: right;\">\n      <th></th>\n      <th>X</th>\n      <th>Y</th>\n      <th>TYPE</th>\n      <th>CITY</th>\n    </tr>\n  </thead>\n  <tbody>\n    <tr>\n      <th>328</th>\n      <td>-122.390154</td>\n      <td>37.766473</td>\n      <td>Dialysis Center</td>\n      <td>SAN FRANCISCO</td>\n    </tr>\n    <tr>\n      <th>6298</th>\n      <td>-122.459289</td>\n      <td>37.781839</td>\n      <td>Dialysis Center</td>\n      <td>SAN FRANCISCO</td>\n    </tr>\n    <tr>\n      <th>6302</th>\n      <td>-122.504847</td>\n      <td>37.781538</td>\n      <td>Dialysis Center</td>\n      <td>SAN FRANCISCO</td>\n    </tr>\n    <tr>\n      <th>6332</th>\n      <td>-122.452290</td>\n      <td>37.769560</td>\n      <td>Dialysis Center</td>\n      <td>SAN FRANCISCO</td>\n    </tr>\n    <tr>\n      <th>6480</th>\n      <td>-122.432009</td>\n      <td>37.783893</td>\n      <td>Dialysis Center</td>\n      <td>SAN FRANCISCO</td>\n    </tr>\n    <tr>\n      <th>...</th>\n      <td>...</td>\n      <td>...</td>\n      <td>...</td>\n      <td>...</td>\n    </tr>\n    <tr>\n      <th>656</th>\n      <td>-122.402474</td>\n      <td>37.790509</td>\n      <td>Urgent_Care_Facilities</td>\n      <td>SAN FRANCISCO</td>\n    </tr>\n    <tr>\n      <th>733</th>\n      <td>-122.424640</td>\n      <td>37.768090</td>\n      <td>Urgent_Care_Facilities</td>\n      <td>SAN FRANCISCO</td>\n    </tr>\n    <tr>\n      <th>85</th>\n      <td>-122.419090</td>\n      <td>37.781426</td>\n      <td>Veterans_Health_Administration_Medical_Facilities</td>\n      <td>SAN FRANCISCO</td>\n    </tr>\n    <tr>\n      <th>385</th>\n      <td>-122.504980</td>\n      <td>37.782290</td>\n      <td>Veterans_Health_Administration_Medical_Facilities</td>\n      <td>SAN FRANCISCO</td>\n    </tr>\n    <tr>\n      <th>1012</th>\n      <td>-122.396852</td>\n      <td>37.782545</td>\n      <td>Veterans_Health_Administration_Medical_Facilities</td>\n      <td>SAN FRANCISCO</td>\n    </tr>\n  </tbody>\n</table>\n<p>236 rows × 4 columns</p>\n</div>"
     },
     "execution_count": 16,
     "metadata": {},
     "output_type": "execute_result"
    }
   ],
   "source": [
    "table =pd.concat([__1, __2, __3, __4, __5, __6, __7])\n",
    "table"
   ],
   "metadata": {
    "collapsed": false,
    "ExecuteTime": {
     "end_time": "2024-01-04T10:44:14.009627100Z",
     "start_time": "2024-01-04T10:44:13.855869Z"
    }
   },
   "id": "dede7b6ccd84a75"
  },
  {
   "cell_type": "code",
   "execution_count": 17,
   "outputs": [
    {
     "data": {
      "text/plain": "TYPE\nPharmacies                                           128\nASSISTED LIVING                                       38\nNURSING HOME                                          19\nGENERAL ACUTE CARE                                    17\nDialysis Center                                       16\nPSYCHIATRIC                                            7\nUrgent_Care_Facilities                                 5\nVeterans_Health_Administration_Medical_Facilities      3\nLONG TERM CARE                                         1\nMILITARY                                               1\nPublic_Health_Departments                              1\nName: count, dtype: int64"
     },
     "execution_count": 17,
     "metadata": {},
     "output_type": "execute_result"
    }
   ],
   "source": [
    "table['TYPE'].value_counts()"
   ],
   "metadata": {
    "collapsed": false,
    "ExecuteTime": {
     "end_time": "2024-01-04T10:44:14.009627100Z",
     "start_time": "2024-01-04T10:44:13.886242800Z"
    }
   },
   "id": "8d5665b3b70eac81"
  },
  {
   "cell_type": "code",
   "execution_count": 18,
   "outputs": [],
   "source": [
    "table.to_csv(source_dir + f'{CITY}.csv', index=False)"
   ],
   "metadata": {
    "collapsed": false,
    "ExecuteTime": {
     "end_time": "2024-01-04T10:44:14.253740900Z",
     "start_time": "2024-01-04T10:44:13.897908800Z"
    }
   },
   "id": "855568c58f01d69"
  }
 ],
 "metadata": {
  "kernelspec": {
   "display_name": "Python 3",
   "language": "python",
   "name": "python3"
  },
  "language_info": {
   "codemirror_mode": {
    "name": "ipython",
    "version": 2
   },
   "file_extension": ".py",
   "mimetype": "text/x-python",
   "name": "python",
   "nbconvert_exporter": "python",
   "pygments_lexer": "ipython2",
   "version": "2.7.6"
  }
 },
 "nbformat": 4,
 "nbformat_minor": 5
}
